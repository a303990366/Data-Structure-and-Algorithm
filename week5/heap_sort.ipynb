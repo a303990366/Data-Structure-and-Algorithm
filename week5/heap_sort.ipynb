{
 "cells": [
  {
   "cell_type": "code",
   "execution_count": 1,
   "metadata": {},
   "outputs": [
    {
     "data": {
      "text/plain": [
       "[-9, -1, 0, 1, 1, 2, 3, 4, 5, 100]"
      ]
     },
     "execution_count": 1,
     "metadata": {},
     "output_type": "execute_result"
    }
   ],
   "source": [
    "def heap_sort(arr):\n",
    "    num=len(arr)\n",
    "    final=[]\n",
    "    for i in range(num,0,-1):\n",
    "        heapify(arr)\n",
    "        arr[0],arr[num-1]=arr[num-1],arr[0]\n",
    "        final.insert(0,arr[num-1])\n",
    "        num-=1\n",
    "        arr=arr[0:num]\n",
    "        \n",
    "        \n",
    "    return final\n",
    "    \n",
    "    \n",
    "def heapify(arr):\n",
    "    n=len(arr)\n",
    "    count=int(n/2)\n",
    "    for i in range(count,-1,-1):\n",
    "        j=2*i+1\n",
    "        k=2*i+2\n",
    "        if j<n:\n",
    "            \n",
    "            if k>=n:\n",
    "                if arr[i]<=arr[j]:\n",
    "                    arr[i],arr[j]=arr[j],arr[i]\n",
    "            else:\n",
    "                largest=i\n",
    "                if arr[i]<=arr[j]:\n",
    "                    largest=j\n",
    "                if arr[largest]<arr[k]:\n",
    "                    largest=k\n",
    "                arr[i],arr[largest]=arr[largest],arr[i]\n",
    "            #arr[0],arr[n-1]=arr[n-1],arr[0]\n",
    "            #n-=1\n",
    "    return arr\n",
    "\n",
    "arr=[5,4,2,3,1,-9,100,-1,0,1]\n",
    "heap_sort(arr)"
   ]
  },
  {
   "cell_type": "code",
   "execution_count": null,
   "metadata": {},
   "outputs": [],
   "source": []
  }
 ],
 "metadata": {
  "kernelspec": {
   "display_name": "Python 3",
   "language": "python",
   "name": "python3"
  },
  "language_info": {
   "codemirror_mode": {
    "name": "ipython",
    "version": 3
   },
   "file_extension": ".py",
   "mimetype": "text/x-python",
   "name": "python",
   "nbconvert_exporter": "python",
   "pygments_lexer": "ipython3",
   "version": "3.7.3"
  }
 },
 "nbformat": 4,
 "nbformat_minor": 2
}
