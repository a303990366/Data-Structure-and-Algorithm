{
 "cells": [
  {
   "cell_type": "code",
   "execution_count": 20,
   "metadata": {},
   "outputs": [],
   "source": [
    "def mergeSort(arr,p,r):\n",
    "    if p<r:\n",
    "        q=int((p+r)/2)\n",
    "        mergeSort(arr,p,q)\n",
    "        mergeSort(arr,q+1,r)\n",
    "        merge(arr,p,q,r)\n",
    "    return alist    \n",
    "    #主程式\n",
    "    \n",
    "def merge(arr,p,q,r):\n",
    "\n",
    "    final=[]\n",
    "    if r-p<=1:\n",
    "        if arr[r]<=arr[p]:\n",
    "            arr[p],arr[r]=arr[r],arr[p]\n",
    "            \n",
    "    else:\n",
    "        n1=arr[p:q+1]\n",
    "        n2=arr[q+1:r+1]\n",
    "        i=0\n",
    "        j=0\n",
    "    \n",
    "        for k in range(0,r-p):\n",
    "            \n",
    "            if n1[i]<=n2[j] :\n",
    "                #temp.append(n1[i])\n",
    "                final.append(n1[i])\n",
    "                i+=1\n",
    "            else:      \n",
    "                #temp.append(n2[j])\n",
    "                final.append(n2[j])\n",
    "                j+=1\n",
    "            if len(n1)<=i:\n",
    "                for k in range(len(n2)-j):\n",
    "                    #temp.append(n2[j])\n",
    "                    final.append(n2[j])\n",
    "                    j+=1\n",
    "                break\n",
    "            elif len(n2)<=j:\n",
    "                for k in range(len(n1)-i):\n",
    "                    #temp.append(n1[i])\n",
    "                    final.append(n1[i])\n",
    "                    i+=1\n",
    "                break\n",
    "            \n",
    "                   \n",
    "        \n",
    "    \n",
    "        arr[p:r+1]=final\n",
    "        \n",
    " \n",
    "\n",
    "        \n",
    "\n",
    "\n",
    "alist=[5,1,3,4,8,7,6,2,5,0]\n",
    "\n",
    "#merge_sort(alist,0,len(alist)-1)"
   ]
  },
  {
   "cell_type": "code",
   "execution_count": 21,
   "metadata": {},
   "outputs": [
    {
     "data": {
      "text/plain": [
       "[0, 1, 2, 3, 4, 5, 5, 6, 7, 8]"
      ]
     },
     "execution_count": 21,
     "metadata": {},
     "output_type": "execute_result"
    }
   ],
   "source": [
    "mergeSort(alist,0,len(alist)-1)"
   ]
  },
  {
   "cell_type": "code",
   "execution_count": null,
   "metadata": {},
   "outputs": [],
   "source": []
  },
  {
   "cell_type": "code",
   "execution_count": null,
   "metadata": {},
   "outputs": [],
   "source": []
  }
 ],
 "metadata": {
  "kernelspec": {
   "display_name": "Python 3",
   "language": "python",
   "name": "python3"
  },
  "language_info": {
   "codemirror_mode": {
    "name": "ipython",
    "version": 3
   },
   "file_extension": ".py",
   "mimetype": "text/x-python",
   "name": "python",
   "nbconvert_exporter": "python",
   "pygments_lexer": "ipython3",
   "version": "3.7.3"
  }
 },
 "nbformat": 4,
 "nbformat_minor": 2
}
