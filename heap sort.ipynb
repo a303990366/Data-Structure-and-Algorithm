{
 "cells": [
  {
   "cell_type": "code",
   "execution_count": 122,
   "metadata": {},
   "outputs": [],
   "source": [
    "list=[4,10,3,5,1]"
   ]
  },
  {
   "cell_type": "code",
   "execution_count": 102,
   "metadata": {},
   "outputs": [],
   "source": [
    "def tree_sort(list):\n",
    "    max_index=len(list)-1\n",
    "    while max_index>1:\n",
    "    #    code\n",
    "    #if list[0]<list[1]:\n",
    "    #    change(list,0,1)\n",
    "    \n",
    "        if list[1]<list[2]:\n",
    "            change(list,0,2)\n",
    "        else:\n",
    "            change(list,0,1)\n",
    "        if list[1]<list[max_index] or list[1]<list[max_index-1]:\n",
    "            if list[max_index-1]<list[max_index]:\n",
    "                change(list,1,max_index)\n",
    "            else:\n",
    "                change(list,1,max_index-1)      \n",
    "        change(list,0,max_index)\n",
    "        max_index-=1\n",
    "        if list[1]<list[2]:\n",
    "            change(list,0,2)\n",
    "        else:\n",
    "            change(list,0,1)\n",
    "        if list[1]<list[max_index] :\n",
    "            change(list,1,max_index)\n",
    "        change(list,0,max_index)\n",
    "        max_index-=1\n",
    "    \n",
    "        if list[1]<list[2]:\n",
    "            change(list,0,2)\n",
    "        else:\n",
    "            change(list,0,1)\n",
    "        change(list,0,max_index)\n",
    "        max_index-=1\n",
    "## 分隔\n",
    "        if list[1]<list[0]:\n",
    "            change(list,0,1)\n",
    "            \n",
    "            \n",
    "def change(list,i,j):\n",
    "    list[i],list[j]=list[j],list[i]        \n",
    "    \n",
    "    \n",
    "    \n",
    "        "
   ]
  },
  {
   "cell_type": "code",
   "execution_count": 123,
   "metadata": {},
   "outputs": [],
   "source": [
    "tree_sort(list)"
   ]
  },
  {
   "cell_type": "code",
   "execution_count": 124,
   "metadata": {},
   "outputs": [
    {
     "data": {
      "text/plain": [
       "[1, 3, 4, 5, 10]"
      ]
     },
     "execution_count": 124,
     "metadata": {},
     "output_type": "execute_result"
    }
   ],
   "source": [
    "list"
   ]
  },
  {
   "cell_type": "code",
   "execution_count": 95,
   "metadata": {},
   "outputs": [],
   "source": []
  },
  {
   "cell_type": "code",
   "execution_count": 100,
   "metadata": {},
   "outputs": [],
   "source": []
  },
  {
   "cell_type": "code",
   "execution_count": 101,
   "metadata": {},
   "outputs": [
    {
     "data": {
      "text/plain": [
       "[1, 2, 3, 4, 5]"
      ]
     },
     "execution_count": 101,
     "metadata": {},
     "output_type": "execute_result"
    }
   ],
   "source": []
  },
  {
   "cell_type": "code",
   "execution_count": null,
   "metadata": {},
   "outputs": [],
   "source": []
  }
 ],
 "metadata": {
  "kernelspec": {
   "display_name": "Python 3",
   "language": "python",
   "name": "python3"
  },
  "language_info": {
   "codemirror_mode": {
    "name": "ipython",
    "version": 3
   },
   "file_extension": ".py",
   "mimetype": "text/x-python",
   "name": "python",
   "nbconvert_exporter": "python",
   "pygments_lexer": "ipython3",
   "version": "3.7.3"
  }
 },
 "nbformat": 4,
 "nbformat_minor": 2
}
