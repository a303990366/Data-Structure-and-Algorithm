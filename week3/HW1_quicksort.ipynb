{
 "cells": [
  {
   "cell_type": "markdown",
   "metadata": {},
   "source": [
    "# Quick Sort"
   ]
  },
  {
   "cell_type": "markdown",
   "metadata": {},
   "source": [
    "### 簡介: 是一種將未排序的數列進行排序的方法"
   ]
  },
  {
   "cell_type": "markdown",
   "metadata": {},
   "source": [
    "### 特色: 選擇一個數值作為基準點，比該基準點大的放在右堆，比該基準點小放左堆，在左右兩堆分別找基準點進行分類，反覆執行到排序完成。"
   ]
  },
  {
   "cell_type": "markdown",
   "metadata": {},
   "source": [
    "### 例子:"
   ]
  },
  {
   "cell_type": "markdown",
   "metadata": {},
   "source": [
    "###    4  2  6  3  5  1\n",
    "### ----選擇4作為基準點，進行排序後----\n",
    "###    2  3  1  4  6  5\n",
    "### 可以觀察到數列尚未排序完成，而且分成了比4小的一堆以及比4大的一堆\n",
    "### 接下來我們繼續在左右兩堆各選擇一個基準點，進行上述的步驟\n",
    "\n",
    "### ----選擇2、6作為基準點，並且排序後----\n",
    "###    1  2  3  4  5  6\n",
    "\n",
    "### 在排序的過程中，我們可以發現以4作為基準點的左堆是空值，就不用繼續排序了\n",
    "### 雖然在4的右堆(5、6)我們可以直觀看出已經排序了，但仍需要進行比大小的動作\n",
    "### 至於一堆裡只有一個值就不用排序了\n"
   ]
  },
  {
   "cell_type": "markdown",
   "metadata": {},
   "source": [
    "### 流程圖:"
   ]
  },
  {
   "cell_type": "markdown",
   "metadata": {},
   "source": [
    "#### 可點選圖片放大觀看"
   ]
  },
  {
   "cell_type": "markdown",
   "metadata": {},
   "source": [
    "<a href=\"https://ibb.co/5vfGFTg\"><img src=\"https://i.ibb.co/5vfGFTg/process.jpg\" alt=\"process\" border=\"0\"></a>"
   ]
  },
  {
   "cell_type": "markdown",
   "metadata": {},
   "source": [
    "### 程式碼:"
   ]
  },
  {
   "cell_type": "code",
   "execution_count": 14,
   "metadata": {},
   "outputs": [],
   "source": [
    "def quicksort(data):\n",
    "    quicksorthelper(data,0,len(alist)-1)\n",
    "    "
   ]
  },
  {
   "cell_type": "markdown",
   "metadata": {},
   "source": [
    "#### 因index由0開始，所以最後一個數值的index為數量-1"
   ]
  },
  {
   "cell_type": "code",
   "execution_count": 15,
   "metadata": {},
   "outputs": [],
   "source": [
    "def quicksorthelper(data,first,last):\n",
    "    if first<last:\n",
    "        split = partition(data,first,last)\n",
    "        quicksorthelper(data,first,split-1)\n",
    "        quicksorthelper(data,split+1,last)"
   ]
  },
  {
   "cell_type": "markdown",
   "metadata": {},
   "source": [
    "#### 這裡的split為基準點的數值，下兩行的quicksortheper一個是代表左堆，另一個代表右堆\n",
    "#### 而且在函式中呼叫自己，產生遞迴"
   ]
  },
  {
   "cell_type": "code",
   "execution_count": 16,
   "metadata": {},
   "outputs": [],
   "source": [
    "def partition(data,first,last):\n",
    "    pivot=first\n",
    "    left=first+1\n",
    "    right=last\n",
    "    \n",
    "    while True:\n",
    "        while left<=right and data[left]<=data[pivot]:\n",
    "            left+=1\n",
    "        while left<=right and data[right]>=data[pivot]:\n",
    "            right-=1\n",
    "        if left>right:\n",
    "            break\n",
    "        else:\n",
    "            data[left],data[right]=data[right],data[left]\n",
    "    data[right],data[pivot]=data[pivot],data[right]\n",
    "    \n",
    "    return right\n"
   ]
  },
  {
   "cell_type": "markdown",
   "metadata": {},
   "source": [
    "#### 程式的基準點(pivot)設置為數列中 index為first的值\n",
    "#### left跟right分別代表左右端開始的index\n"
   ]
  },
  {
   "cell_type": "markdown",
   "metadata": {},
   "source": [
    "#### 我們繼續使用之前的例子講解\n",
    "#### 4  2  6  3  5  1\n",
    "#### 選擇4作為基準點，並以2、1分別作為左右兩端的起始點\n",
    "#### 因為4>2=>繼續往下一個index找=>6>4=>停止\n",
    "#### 因為4<1=>停止\n",
    "#### 將1跟6替換\n",
    "#### 4  2  1  3  5  6\n",
    "#### 從原本停止的index繼續找\n",
    "#### 這裡可以發現right的index<left的index=>停止\n",
    "#### 將right跟pivot互換\n",
    "#### 此時的right為3\n",
    "#### 3  2  1  4  5  6\n",
    "#### (3  2  1)  4  (5  6)\n",
    "#### 將(3 2 1 )與(5 6) 分別排序\n",
    "#### (3  2  1)  4  (5  6)\n",
    "#### 分別選擇3、5作為基準點\n",
    "#### (3  2  1)=>左端為2;右端為1=>找尋後發現左端沒有符合的數值，將right跟pivot互換=>(1  2  3)\n",
    "#### (5  6)=>左端與右端皆為2=>左端符合，但右端不符合=>右端index 減1=>符合left>right=>將right跟pivot互換(此時right=pivot)=>(5 6)"
   ]
  },
  {
   "cell_type": "code",
   "execution_count": 17,
   "metadata": {},
   "outputs": [],
   "source": [
    "alist=[54,26,93,17,77,31,44,55,20]"
   ]
  },
  {
   "cell_type": "code",
   "execution_count": 18,
   "metadata": {},
   "outputs": [
    {
     "name": "stdout",
     "output_type": "stream",
     "text": [
      "[17, 20, 26, 31, 44, 54, 55, 77, 93]\n"
     ]
    }
   ],
   "source": [
    "quicksort(alist)\n",
    "print(alist)"
   ]
  },
  {
   "cell_type": "markdown",
   "metadata": {},
   "source": [
    "#### 在讀完老師的程式碼時，發現跟我一開始的構想是不太一樣的\n",
    "#### 我的想法:當某個數比基準點小(大)就直接提取該數值放置進左(右)堆\n",
    "#### 老師的想法:從左端開始找比基準點大的數值;從右端開始找比基準點小的數值，當符合上述條件後將找到的數值進行替換\n",
    "#### 比較想法後，我的想法需要多設置兩個暫存左右堆的陣列(缺點)但邏輯簡單(優點)"
   ]
  },
  {
   "cell_type": "code",
   "execution_count": null,
   "metadata": {},
   "outputs": [],
   "source": []
  }
 ],
 "metadata": {
  "kernelspec": {
   "display_name": "Python 3",
   "language": "python",
   "name": "python3"
  },
  "language_info": {
   "codemirror_mode": {
    "name": "ipython",
    "version": 3
   },
   "file_extension": ".py",
   "mimetype": "text/x-python",
   "name": "python",
   "nbconvert_exporter": "python",
   "pygments_lexer": "ipython3",
   "version": "3.7.3"
  }
 },
 "nbformat": 4,
 "nbformat_minor": 2
}
