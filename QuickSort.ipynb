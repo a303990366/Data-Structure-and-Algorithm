{
 "cells": [
  {
   "cell_type": "code",
   "execution_count": 1,
   "metadata": {},
   "outputs": [],
   "source": [
    "def quicksort(data):\n",
    "    quicksorthelper(data,0,len(alist)-1)\n",
    "def quicksorthelper(data,first,last):\n",
    "    if first<last:\n",
    "        split = partition(data,first,last)\n",
    "        quicksorthelper(data,first,split-1)\n",
    "        quicksorthelper(data,split+1,last)\n",
    "def partition(data,first,last):\n",
    "    pivot=first\n",
    "    left=first+1\n",
    "    right=last\n",
    "    \n",
    "    while True:\n",
    "        while left<=right and data[left]<=data[pivot]:\n",
    "            left+=1\n",
    "        while left<=right and data[right]>=data[pivot]:\n",
    "            right-=1\n",
    "        if left>right:\n",
    "            break\n",
    "        else:\n",
    "            data[left],data[right]=data[right],data[left]\n",
    "    data[right],data[pivot]=data[pivot],data[right]\n",
    "    \n",
    "    return right"
   ]
  },
  {
   "cell_type": "code",
   "execution_count": null,
   "metadata": {},
   "outputs": [],
   "source": []
  }
 ],
 "metadata": {
  "kernelspec": {
   "display_name": "Python 3",
   "language": "python",
   "name": "python3"
  },
  "language_info": {
   "codemirror_mode": {
    "name": "ipython",
    "version": 3
   },
   "file_extension": ".py",
   "mimetype": "text/x-python",
   "name": "python",
   "nbconvert_exporter": "python",
   "pygments_lexer": "ipython3",
   "version": "3.7.1"
  }
 },
 "nbformat": 4,
 "nbformat_minor": 2
}
